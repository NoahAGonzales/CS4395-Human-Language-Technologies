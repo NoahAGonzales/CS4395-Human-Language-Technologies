{
  "nbformat": 4,
  "nbformat_minor": 0,
  "metadata": {
    "colab": {
      "provenance": []
    },
    "kernelspec": {
      "name": "python3",
      "display_name": "Python 3"
    },
    "language_info": {
      "name": "python"
    }
  },
  "cells": [
    {
      "cell_type": "markdown",
      "source": [
        "# What is WordNet?\n",
        "\n",
        "WordNet is a lexical database of English that groups nouns, verbs, adjectives, and adverbs into sets of \"cognitive synonyms (synsets). These synsets are interlinked by semantic and lexical relations, meaning that relations are built on more than meaning similarity. This structure makes WordNet especially useful for Natural Language Processing.\n"
      ],
      "metadata": {
        "id": "SAa42xyjDDhz"
      }
    },
    {
      "cell_type": "markdown",
      "source": [
        "## 1. Let's import WordNet"
      ],
      "metadata": {
        "id": "nrne2q6JE8Sk"
      }
    },
    {
      "cell_type": "code",
      "source": [
        "import nltk\n",
        "nltk.download('wordnet')\n",
        "nltk.download('omw-1.4')\n",
        "from nltk.corpus import wordnet as wn"
      ],
      "metadata": {
        "colab": {
          "base_uri": "https://localhost:8080/"
        },
        "id": "vrGRT43ctLu0",
        "outputId": "94918302-f81e-4015-d111-b1a98f0dd957"
      },
      "execution_count": 2,
      "outputs": [
        {
          "output_type": "stream",
          "name": "stderr",
          "text": [
            "[nltk_data] Downloading package wordnet to /root/nltk_data...\n",
            "[nltk_data] Downloading package omw-1.4 to /root/nltk_data...\n"
          ]
        }
      ]
    },
    {
      "cell_type": "markdown",
      "source": [
        "## 2. Select a noun and output all synsets"
      ],
      "metadata": {
        "id": "232x7gO5GQ87"
      }
    },
    {
      "cell_type": "code",
      "source": [
        "synsets = wn.synsets('base')\n",
        "synsets"
      ],
      "metadata": {
        "colab": {
          "base_uri": "https://localhost:8080/"
        },
        "id": "grBFjQW_DDSf",
        "outputId": "b31c1d92-9264-4c3c-b254-89b7f2bb7a71"
      },
      "execution_count": 3,
      "outputs": [
        {
          "output_type": "execute_result",
          "data": {
            "text/plain": [
              "[Synset('base.n.01'),\n",
              " Synset('foundation.n.03'),\n",
              " Synset('base.n.03'),\n",
              " Synset('base.n.04'),\n",
              " Synset('base.n.05'),\n",
              " Synset('floor.n.03'),\n",
              " Synset('basis.n.02'),\n",
              " Synset('base.n.08'),\n",
              " Synset('nucleotide.n.01'),\n",
              " Synset('base.n.10'),\n",
              " Synset('base.n.11'),\n",
              " Synset('basis.n.03'),\n",
              " Synset('base.n.13'),\n",
              " Synset('base.n.14'),\n",
              " Synset('al-qaeda.n.01'),\n",
              " Synset('root.n.03'),\n",
              " Synset('infrastructure.n.02'),\n",
              " Synset('base.n.18'),\n",
              " Synset('base.n.19'),\n",
              " Synset('base.n.20'),\n",
              " Synset('establish.v.08'),\n",
              " Synset('base.v.02'),\n",
              " Synset('free-base.v.01'),\n",
              " Synset('basal.s.02'),\n",
              " Synset('base.s.02'),\n",
              " Synset('base.s.03'),\n",
              " Synset('base.s.04'),\n",
              " Synset('base.s.05'),\n",
              " Synset('base.s.06'),\n",
              " Synset('base.s.07')]"
            ]
          },
          "metadata": {},
          "execution_count": 3
        }
      ]
    },
    {
      "cell_type": "markdown",
      "source": [
        "## 3. Analyze a noun"
      ],
      "metadata": {
        "id": "nBvVER3WIvHS"
      }
    },
    {
      "cell_type": "code",
      "source": [
        "base = wn.synset('base.n.01')"
      ],
      "metadata": {
        "id": "Sbm0gVgElk06"
      },
      "execution_count": 4,
      "outputs": []
    },
    {
      "cell_type": "code",
      "source": [
        "base.definition()"
      ],
      "metadata": {
        "colab": {
          "base_uri": "https://localhost:8080/",
          "height": 35
        },
        "id": "OB1S0f9kI4Yh",
        "outputId": "de2297a0-6bae-49ea-d885-0733c408a6e9"
      },
      "execution_count": 5,
      "outputs": [
        {
          "output_type": "execute_result",
          "data": {
            "text/plain": [
              "'installation from which a military force initiates operations'"
            ],
            "application/vnd.google.colaboratory.intrinsic+json": {
              "type": "string"
            }
          },
          "metadata": {},
          "execution_count": 5
        }
      ]
    },
    {
      "cell_type": "code",
      "source": [
        "base.examples()"
      ],
      "metadata": {
        "colab": {
          "base_uri": "https://localhost:8080/"
        },
        "id": "GvvhzJv9JmYZ",
        "outputId": "ef73260f-5934-4ca5-e6a4-1dc78c26a37a"
      },
      "execution_count": 6,
      "outputs": [
        {
          "output_type": "execute_result",
          "data": {
            "text/plain": [
              "['the attack wiped out our forward bases']"
            ]
          },
          "metadata": {},
          "execution_count": 6
        }
      ]
    },
    {
      "cell_type": "code",
      "source": [
        "base.lemmas()"
      ],
      "metadata": {
        "colab": {
          "base_uri": "https://localhost:8080/"
        },
        "id": "M2JqANUNJn8S",
        "outputId": "c572347e-cb52-4991-ffe3-1661d222221e"
      },
      "execution_count": 7,
      "outputs": [
        {
          "output_type": "execute_result",
          "data": {
            "text/plain": [
              "[Lemma('base.n.01.base'), Lemma('base.n.01.base_of_operations')]"
            ]
          },
          "metadata": {},
          "execution_count": 7
        }
      ]
    },
    {
      "cell_type": "code",
      "source": [
        "# Traverse hierarchy\n",
        "hypernym = base.hypernyms()[0]\n",
        "top = wn.synset('entity.n.01')\n",
        "while hypernym:\n",
        "  print(hypernym)\n",
        "  if hypernym == top:\n",
        "    break\n",
        "  if hypernym.hypernyms():\n",
        "    hypernym = hypernym.hypernyms()[0]"
      ],
      "metadata": {
        "id": "eQjYvmmQL4ii",
        "colab": {
          "base_uri": "https://localhost:8080/"
        },
        "outputId": "7118af25-4be0-4372-8a6b-9afd334b4eab"
      },
      "execution_count": 9,
      "outputs": [
        {
          "output_type": "stream",
          "name": "stdout",
          "text": [
            "Synset('military_installation.n.01')\n",
            "Synset('facility.n.01')\n",
            "Synset('artifact.n.01')\n",
            "Synset('whole.n.02')\n",
            "Synset('object.n.01')\n",
            "Synset('physical_entity.n.01')\n",
            "Synset('entity.n.01')\n"
          ]
        }
      ]
    },
    {
      "cell_type": "markdown",
      "source": [
        "Wordnet organizes nouns under a hierarchy that becomes more generalized as you traverse up, and specifics are left behind as you traverse up because they can only apply to that level. Important to note as well is the fact that nouns has a top-level synset, meaning that all nouns can be generalized to one noun.\n",
        "\n",
        "\"Base\" was generalized under \"military installation\", and then that was generalized to \"facility\" - all the way up to \"physical entity\" and \"entity\" which encompass most and all nouns respectively."
      ],
      "metadata": {
        "id": "C8D8SUzimw_N"
      }
    },
    {
      "cell_type": "markdown",
      "source": [
        "## 4. Output relations"
      ],
      "metadata": {
        "id": "DOgbw45InlPW"
      }
    },
    {
      "cell_type": "code",
      "source": [
        "print(\"Hypernyms:\")\n",
        "base.hypernyms()"
      ],
      "metadata": {
        "colab": {
          "base_uri": "https://localhost:8080/"
        },
        "id": "PM4p3aBjm7tv",
        "outputId": "2e7b6625-3f9e-4e4a-8a43-eee9bad602aa"
      },
      "execution_count": 18,
      "outputs": [
        {
          "output_type": "stream",
          "name": "stdout",
          "text": [
            "Hypernyms:\n"
          ]
        },
        {
          "output_type": "execute_result",
          "data": {
            "text/plain": [
              "[Synset('military_installation.n.01')]"
            ]
          },
          "metadata": {},
          "execution_count": 18
        }
      ]
    },
    {
      "cell_type": "code",
      "source": [
        "print(\"Hyponyms:\")\n",
        "base.hyponyms()"
      ],
      "metadata": {
        "colab": {
          "base_uri": "https://localhost:8080/"
        },
        "id": "mjvEtxY_m9zA",
        "outputId": "20f46956-5060-4145-f08d-df71dab5108a"
      },
      "execution_count": 11,
      "outputs": [
        {
          "output_type": "execute_result",
          "data": {
            "text/plain": [
              "[Synset('air_base.n.01'),\n",
              " Synset('army_base.n.01'),\n",
              " Synset('firebase.n.01'),\n",
              " Synset('navy_base.n.01'),\n",
              " Synset('rocket_base.n.01')]"
            ]
          },
          "metadata": {},
          "execution_count": 11
        }
      ]
    },
    {
      "cell_type": "code",
      "source": [
        "print(\"Meronyms:\")\n",
        "try:\n",
        "  base.meronyms()\n",
        "except:\n",
        "  print([])"
      ],
      "metadata": {
        "colab": {
          "base_uri": "https://localhost:8080/"
        },
        "id": "XbgwuZhDnAGE",
        "outputId": "0c9ea7d7-0ce7-49d2-c372-346da33eba5d"
      },
      "execution_count": 21,
      "outputs": [
        {
          "output_type": "stream",
          "name": "stdout",
          "text": [
            "Meronyms:\n",
            "[]\n"
          ]
        }
      ]
    },
    {
      "cell_type": "code",
      "source": [
        "print(\"Holonyms:\")\n",
        "try:\n",
        "  base.holonyms()\n",
        "except:\n",
        "  print([])"
      ],
      "metadata": {
        "colab": {
          "base_uri": "https://localhost:8080/"
        },
        "id": "Zf1iHbbdnBv0",
        "outputId": "b36b8bc3-69ac-4ed6-e3c6-1ad60679026a"
      },
      "execution_count": 22,
      "outputs": [
        {
          "output_type": "stream",
          "name": "stdout",
          "text": [
            "Holonyms:\n",
            "[]\n"
          ]
        }
      ]
    },
    {
      "cell_type": "code",
      "source": [
        "print(\"Antonyms:\")\n",
        "try:\n",
        "  base.antonyms()\n",
        "except:\n",
        "  print([])"
      ],
      "metadata": {
        "colab": {
          "base_uri": "https://localhost:8080/"
        },
        "id": "AdoDCIvpnFES",
        "outputId": "9f6ed8c1-03db-4fc6-cedb-9b873eaff1b6"
      },
      "execution_count": 23,
      "outputs": [
        {
          "output_type": "stream",
          "name": "stdout",
          "text": [
            "Antonyms:\n",
            "[]\n"
          ]
        }
      ]
    },
    {
      "cell_type": "markdown",
      "source": [
        "## 5. Select a verb and output all synsets"
      ],
      "metadata": {
        "id": "IzXXIq2ao2Ik"
      }
    },
    {
      "cell_type": "code",
      "source": [
        "synsets = wn.synsets('run')\n",
        "synsets"
      ],
      "metadata": {
        "colab": {
          "base_uri": "https://localhost:8080/"
        },
        "id": "_pjD2TP7o8IL",
        "outputId": "f6a709a7-3eb5-4dfd-d6b0-c781d8c451f3"
      },
      "execution_count": 29,
      "outputs": [
        {
          "output_type": "execute_result",
          "data": {
            "text/plain": [
              "[Synset('run.n.01'),\n",
              " Synset('test.n.05'),\n",
              " Synset('footrace.n.01'),\n",
              " Synset('streak.n.01'),\n",
              " Synset('run.n.05'),\n",
              " Synset('run.n.06'),\n",
              " Synset('run.n.07'),\n",
              " Synset('run.n.08'),\n",
              " Synset('run.n.09'),\n",
              " Synset('run.n.10'),\n",
              " Synset('rivulet.n.01'),\n",
              " Synset('political_campaign.n.01'),\n",
              " Synset('run.n.13'),\n",
              " Synset('discharge.n.06'),\n",
              " Synset('run.n.15'),\n",
              " Synset('run.n.16'),\n",
              " Synset('run.v.01'),\n",
              " Synset('scat.v.01'),\n",
              " Synset('run.v.03'),\n",
              " Synset('operate.v.01'),\n",
              " Synset('run.v.05'),\n",
              " Synset('run.v.06'),\n",
              " Synset('function.v.01'),\n",
              " Synset('range.v.01'),\n",
              " Synset('campaign.v.01'),\n",
              " Synset('play.v.18'),\n",
              " Synset('run.v.11'),\n",
              " Synset('tend.v.01'),\n",
              " Synset('run.v.13'),\n",
              " Synset('run.v.14'),\n",
              " Synset('run.v.15'),\n",
              " Synset('run.v.16'),\n",
              " Synset('prevail.v.03'),\n",
              " Synset('run.v.18'),\n",
              " Synset('run.v.19'),\n",
              " Synset('carry.v.15'),\n",
              " Synset('run.v.21'),\n",
              " Synset('guide.v.05'),\n",
              " Synset('run.v.23'),\n",
              " Synset('run.v.24'),\n",
              " Synset('run.v.25'),\n",
              " Synset('run.v.26'),\n",
              " Synset('run.v.27'),\n",
              " Synset('run.v.28'),\n",
              " Synset('run.v.29'),\n",
              " Synset('run.v.30'),\n",
              " Synset('run.v.31'),\n",
              " Synset('run.v.32'),\n",
              " Synset('run.v.33'),\n",
              " Synset('run.v.34'),\n",
              " Synset('ply.v.03'),\n",
              " Synset('hunt.v.01'),\n",
              " Synset('race.v.02'),\n",
              " Synset('move.v.13'),\n",
              " Synset('melt.v.01'),\n",
              " Synset('ladder.v.01'),\n",
              " Synset('run.v.41')]"
            ]
          },
          "metadata": {},
          "execution_count": 29
        }
      ]
    },
    {
      "cell_type": "markdown",
      "source": [
        "## 6. Analyze a verb"
      ],
      "metadata": {
        "id": "lLeT2yJ3pb7N"
      }
    },
    {
      "cell_type": "code",
      "source": [
        "run = wn.synset('run.v.01')\n",
        "run"
      ],
      "metadata": {
        "colab": {
          "base_uri": "https://localhost:8080/"
        },
        "id": "BKR60GqNpZoe",
        "outputId": "5fa8a656-bd96-44cc-f3e9-50a9d2531378"
      },
      "execution_count": 31,
      "outputs": [
        {
          "output_type": "execute_result",
          "data": {
            "text/plain": [
              "Synset('run.v.01')"
            ]
          },
          "metadata": {},
          "execution_count": 31
        }
      ]
    },
    {
      "cell_type": "code",
      "source": [
        "run.definition()"
      ],
      "metadata": {
        "colab": {
          "base_uri": "https://localhost:8080/",
          "height": 35
        },
        "id": "UwFQr30fpvJ8",
        "outputId": "3bcfc378-cffa-4aa5-8a05-fc770df812ab"
      },
      "execution_count": 33,
      "outputs": [
        {
          "output_type": "execute_result",
          "data": {
            "text/plain": [
              "\"move fast by using one's feet, with one foot off the ground at any given time\""
            ],
            "application/vnd.google.colaboratory.intrinsic+json": {
              "type": "string"
            }
          },
          "metadata": {},
          "execution_count": 33
        }
      ]
    },
    {
      "cell_type": "code",
      "source": [
        "run.examples()"
      ],
      "metadata": {
        "colab": {
          "base_uri": "https://localhost:8080/"
        },
        "id": "LsVC9yScpy7k",
        "outputId": "77bead56-2e72-4400-dddf-b9206de857c3"
      },
      "execution_count": 35,
      "outputs": [
        {
          "output_type": "execute_result",
          "data": {
            "text/plain": [
              "[\"Don't run--you'll be out of breath\", 'The children ran to the store']"
            ]
          },
          "metadata": {},
          "execution_count": 35
        }
      ]
    },
    {
      "cell_type": "code",
      "source": [
        "run.lemmas()"
      ],
      "metadata": {
        "colab": {
          "base_uri": "https://localhost:8080/"
        },
        "id": "oKAb0vJQp0OD",
        "outputId": "2aae08ce-154a-494d-a3d5-e3889e80fba4"
      },
      "execution_count": 34,
      "outputs": [
        {
          "output_type": "execute_result",
          "data": {
            "text/plain": [
              "[Lemma('run.v.01.run')]"
            ]
          },
          "metadata": {},
          "execution_count": 34
        }
      ]
    },
    {
      "cell_type": "code",
      "source": [
        "# Traverse hierarchy\n",
        "hypernym = run.hypernyms()[0]\n",
        "top = wn.synset('travel.v.01')\n",
        "while hypernym:\n",
        "  print(hypernym)\n",
        "  if hypernym == top:\n",
        "      break\n",
        "  if hypernym.hypernyms():\n",
        "    hypernym = hypernym.hypernyms()[0]\n"
      ],
      "metadata": {
        "colab": {
          "base_uri": "https://localhost:8080/"
        },
        "id": "0K7faKcJp4fe",
        "outputId": "0f029ac0-27ac-42c2-d457-8d817fb8f4ba"
      },
      "execution_count": 53,
      "outputs": [
        {
          "output_type": "stream",
          "name": "stdout",
          "text": [
            "Synset('travel_rapidly.v.01')\n",
            "Synset('travel.v.01')\n"
          ]
        }
      ]
    },
    {
      "cell_type": "markdown",
      "source": [
        "Wordnet also arranges verbs into hierarchies that generalize as you travel up. Verbs toward the bottom of hierarchies characterizes an event more specifically. Because of the broadness of verbs, verbs do not have a top-level synset. \n",
        "\n",
        "This can be seen with run's hierarchy, which has a top-level of \"travel\" which does not describe many other actions."
      ],
      "metadata": {
        "id": "YSxkTD_7uX03"
      }
    },
    {
      "cell_type": "markdown",
      "source": [
        "## 7. Use morphy to find as many different forms of the word as you can"
      ],
      "metadata": {
        "id": "sRpWTdOQwA1n"
      }
    },
    {
      "cell_type": "code",
      "source": [
        "print(wn.morphy('run', wn.NOUN))\n",
        "print(wn.morphy('run', wn.VERB))\n",
        "print(wn.morphy('run', wn.ADJ))"
      ],
      "metadata": {
        "colab": {
          "base_uri": "https://localhost:8080/"
        },
        "id": "Nyx3w4OXwK6I",
        "outputId": "03cdd50a-62cf-4b77-913e-4ce8eea7067d"
      },
      "execution_count": 67,
      "outputs": [
        {
          "output_type": "stream",
          "name": "stdout",
          "text": [
            "run\n",
            "run\n",
            "None\n"
          ]
        }
      ]
    },
    {
      "cell_type": "markdown",
      "source": [
        "## 8. Compare two words"
      ],
      "metadata": {
        "id": "CVgwAGilz1mv"
      }
    },
    {
      "cell_type": "code",
      "source": [
        "synsets = wn.synsets('explode')\n",
        "synsets"
      ],
      "metadata": {
        "colab": {
          "base_uri": "https://localhost:8080/"
        },
        "id": "sveoJgfIz5GC",
        "outputId": "291b6eb8-a894-41e3-f287-655f9d0c69c3"
      },
      "execution_count": 70,
      "outputs": [
        {
          "output_type": "execute_result",
          "data": {
            "text/plain": [
              "[Synset('explode.v.01'),\n",
              " Synset('explode.v.02'),\n",
              " Synset('explode.v.03'),\n",
              " Synset('explode.v.04'),\n",
              " Synset('explode.v.05'),\n",
              " Synset('explode.v.06'),\n",
              " Synset('explode.v.07'),\n",
              " Synset('explode.v.08'),\n",
              " Synset('detonate.v.02'),\n",
              " Synset('explode.v.10')]"
            ]
          },
          "metadata": {},
          "execution_count": 70
        }
      ]
    },
    {
      "cell_type": "code",
      "source": [
        "explode = wn.synset('explode.v.05')\n",
        "explode.definition()"
      ],
      "metadata": {
        "colab": {
          "base_uri": "https://localhost:8080/",
          "height": 35
        },
        "id": "qohJ6MvN1piu",
        "outputId": "9b81489c-577e-4d12-f9d7-278a670243ef"
      },
      "execution_count": 119,
      "outputs": [
        {
          "output_type": "execute_result",
          "data": {
            "text/plain": [
              "'destroy by exploding'"
            ],
            "application/vnd.google.colaboratory.intrinsic+json": {
              "type": "string"
            }
          },
          "metadata": {},
          "execution_count": 119
        }
      ]
    },
    {
      "cell_type": "code",
      "source": [
        "# Lesk algorithm\n",
        "from nltk.wsd import lesk\n",
        "lesk(explode.definition().split(), 'destroy')\n",
        "print(wn.synset('destroy.v.02').definition())"
      ],
      "metadata": {
        "colab": {
          "base_uri": "https://localhost:8080/"
        },
        "id": "A2i9iJm82ImO",
        "outputId": "0c997ad3-7e7c-418e-f7f0-49910f13e4e3"
      },
      "execution_count": 120,
      "outputs": [
        {
          "output_type": "stream",
          "name": "stdout",
          "text": [
            "destroy completely; damage irreparably\n"
          ]
        }
      ]
    },
    {
      "cell_type": "code",
      "source": [
        "synsets = wn.synsets('destroy')\n",
        "synsets"
      ],
      "metadata": {
        "colab": {
          "base_uri": "https://localhost:8080/"
        },
        "id": "-I6p94V81aUc",
        "outputId": "39f3959a-61e5-4898-e935-1d72342383a7"
      },
      "execution_count": 94,
      "outputs": [
        {
          "output_type": "execute_result",
          "data": {
            "text/plain": [
              "[Synset('destroy.v.01'),\n",
              " Synset('destroy.v.02'),\n",
              " Synset('demolish.v.03'),\n",
              " Synset('destroy.v.04')]"
            ]
          },
          "metadata": {},
          "execution_count": 94
        }
      ]
    },
    {
      "cell_type": "code",
      "source": [
        "# Get the synset for destroy that I think relates to explode the most\n",
        "destroy = wn.synset('destroy.v.01')\n",
        "destroy.definition()"
      ],
      "metadata": {
        "colab": {
          "base_uri": "https://localhost:8080/",
          "height": 35
        },
        "id": "bjJGYNFO1-RY",
        "outputId": "22a44316-2af3-473a-d362-efbd99764af4"
      },
      "execution_count": 114,
      "outputs": [
        {
          "output_type": "execute_result",
          "data": {
            "text/plain": [
              "'do away with, cause the destruction or undoing of'"
            ],
            "application/vnd.google.colaboratory.intrinsic+json": {
              "type": "string"
            }
          },
          "metadata": {},
          "execution_count": 114
        }
      ]
    },
    {
      "cell_type": "code",
      "source": [
        "# Wu-Palmer similarity metric for the first synset of destroy\n",
        "wn.wup_similarity(explode, destroy)"
      ],
      "metadata": {
        "colab": {
          "base_uri": "https://localhost:8080/"
        },
        "id": "hm_TDnam2GT_",
        "outputId": "ea6396ce-fb1a-4fe1-fc8c-dc905fe92ac6"
      },
      "execution_count": 115,
      "outputs": [
        {
          "output_type": "execute_result",
          "data": {
            "text/plain": [
              "0.3333333333333333"
            ]
          },
          "metadata": {},
          "execution_count": 115
        }
      ]
    },
    {
      "cell_type": "code",
      "source": [
        "# Get the synset for destroy that the Lesk algorithm favors\n",
        "destroy = wn.synset('destroy.v.02')\n",
        "destroy.definition()"
      ],
      "metadata": {
        "colab": {
          "base_uri": "https://localhost:8080/",
          "height": 35
        },
        "id": "YwWQ3bqF5vhl",
        "outputId": "4b3d98d5-cab7-4032-bce8-6c9c679cc616"
      },
      "execution_count": 116,
      "outputs": [
        {
          "output_type": "execute_result",
          "data": {
            "text/plain": [
              "'destroy completely; damage irreparably'"
            ],
            "application/vnd.google.colaboratory.intrinsic+json": {
              "type": "string"
            }
          },
          "metadata": {},
          "execution_count": 116
        }
      ]
    },
    {
      "cell_type": "code",
      "source": [
        "# Wu-Palmer similarity metric for the second synset of destroy\n",
        "wn.wup_similarity(explode, destroy)"
      ],
      "metadata": {
        "colab": {
          "base_uri": "https://localhost:8080/"
        },
        "id": "GdH1u_e-53sV",
        "outputId": "ccf8beff-f96f-4b05-c346-92489070b40f"
      },
      "execution_count": 117,
      "outputs": [
        {
          "output_type": "execute_result",
          "data": {
            "text/plain": [
              "0.4"
            ]
          },
          "metadata": {},
          "execution_count": 117
        }
      ]
    },
    {
      "cell_type": "markdown",
      "source": [
        "Explode and destroy are loosely related. I think of destroying being a consequential action of exploding. The relation that I had imagined had a lower Wu-Palmer metric than the synset given by the Lesk algorithm. After, reevaluating, it makes sense when only considering defintions and the words contained in them why the other synset has a higher Wu-Palmer metric. The Wu-Palmer metric can only consider to a dictionary of glosses while I consider my experiences and relations built myself."
      ],
      "metadata": {
        "id": "I7lWFkAd2Kxd"
      }
    },
    {
      "cell_type": "markdown",
      "source": [
        "## 9. SentiWordNet"
      ],
      "metadata": {
        "id": "XrcsfPaT6zHy"
      }
    },
    {
      "cell_type": "markdown",
      "source": [
        "SentiWordNet is a resource that assigns sentiment scores to synsets. sentiment scores include positivity, negativity, and objectivity (neutral). SentiWordNet is useful for, as the name suggests, sentiment analysis. Some use cases include analyzing how a person is feeling in call menus and detecting emotional state for health."
      ],
      "metadata": {
        "id": "iJl1dUUV7s02"
      }
    },
    {
      "cell_type": "code",
      "source": [
        "# Setup\n",
        "nltk.download('sentiwordnet')\n",
        "from nltk.corpus import sentiwordnet as swn"
      ],
      "metadata": {
        "colab": {
          "base_uri": "https://localhost:8080/"
        },
        "id": "WhPwDlvZ69DW",
        "outputId": "27fd282a-32cd-4c0b-a26d-3c8593654a0d"
      },
      "execution_count": 122,
      "outputs": [
        {
          "output_type": "stream",
          "name": "stderr",
          "text": [
            "[nltk_data] Downloading package sentiwordnet to /root/nltk_data...\n",
            "[nltk_data]   Package sentiwordnet is already up-to-date!\n"
          ]
        }
      ]
    },
    {
      "cell_type": "code",
      "source": [
        "# Select an emotionally charged word\n",
        "# Find its senti-synsets and output polarity scores for each word\n",
        "\n",
        "struggle = swn.senti_synset('contend.v.06')\n",
        "print(struggle)\n",
        "print(\"Positive score = \", struggle.pos_score())\n",
        "print(\"Negative score = \", struggle.pos_score())\n",
        "print(\"Objective score = \", struggle.obj_score())"
      ],
      "metadata": {
        "colab": {
          "base_uri": "https://localhost:8080/"
        },
        "id": "xsNXkEFs7Tsn",
        "outputId": "919f7f85-c0cf-485b-b267-3b05b863e220"
      },
      "execution_count": 141,
      "outputs": [
        {
          "output_type": "stream",
          "name": "stdout",
          "text": [
            "<contend.v.06: PosScore=0.0 NegScore=0.0>\n",
            "Positive score =  0.0\n",
            "Negative score =  0.0\n",
            "Objective score =  1.0\n"
          ]
        }
      ]
    },
    {
      "cell_type": "code",
      "source": [
        "# Make up a sentence\n",
        "sen = \"I think she doesn't want to be in a relationship because she is going to cheat on me again\" # not related\n",
        "# Output the polarity for each word in the sentence\n",
        "for word in sen.split():\n",
        "  synsets = list(swn.senti_synsets(word))\n",
        "  if synsets:\n",
        "    synset = synsets[0]\n",
        "    print(\"Word:\", word, \"\\nPos: \", synset.pos_score(), \" - Neg: \", synset.neg_score(), \" - Obj: \", synset.obj_score(), '\\n')\n",
        "# Write a couple of sentences about your observations of the scores and the utility of knowing these scores in an NLP applications"
      ],
      "metadata": {
        "colab": {
          "base_uri": "https://localhost:8080/"
        },
        "id": "CJhRP2NfApn1",
        "outputId": "2f230f9c-ee1a-4010-86c8-2d93105dfd5d"
      },
      "execution_count": 147,
      "outputs": [
        {
          "output_type": "stream",
          "name": "stdout",
          "text": [
            "Word: I \n",
            "Pos:  0.0  - Neg:  0.0  - Obj:  1.0 \n",
            "\n",
            "Word: think \n",
            "Pos:  0.0  - Neg:  0.0  - Obj:  1.0 \n",
            "\n",
            "Word: want \n",
            "Pos:  0.0  - Neg:  0.25  - Obj:  0.75 \n",
            "\n",
            "Word: be \n",
            "Pos:  0.0  - Neg:  0.0  - Obj:  1.0 \n",
            "\n",
            "Word: in \n",
            "Pos:  0.0  - Neg:  0.0  - Obj:  1.0 \n",
            "\n",
            "Word: a \n",
            "Pos:  0.0  - Neg:  0.0  - Obj:  1.0 \n",
            "\n",
            "Word: relationship \n",
            "Pos:  0.0  - Neg:  0.0  - Obj:  1.0 \n",
            "\n",
            "Word: is \n",
            "Pos:  0.25  - Neg:  0.125  - Obj:  0.625 \n",
            "\n",
            "Word: going \n",
            "Pos:  0.0  - Neg:  0.0  - Obj:  1.0 \n",
            "\n",
            "Word: cheat \n",
            "Pos:  0.0  - Neg:  0.0  - Obj:  1.0 \n",
            "\n",
            "Word: on \n",
            "Pos:  0.0  - Neg:  0.0  - Obj:  1.0 \n",
            "\n",
            "Word: me \n",
            "Pos:  0.0  - Neg:  0.0  - Obj:  1.0 \n",
            "\n",
            "Word: again \n",
            "Pos:  0.0  - Neg:  0.0  - Obj:  1.0 \n",
            "\n"
          ]
        }
      ]
    },
    {
      "cell_type": "markdown",
      "source": [
        "The sentiment score is hard to find, given the in-class demonstration and my experiences with this assignment, it seems that there are a lot of words that don't carry objective sentiment. I assume that this means that SentiWordNet doesn't know what to make of these words. It is also evident that many words are objectively ranked because context within the sentence and relative to other words is not considered.\n",
        "\n",
        "The drawbacks of this are not necessarily bad. This type of analysis allows for \"objective\" sentiment analysis that is unbothered by potentially skewing characteristics.\n",
        "\n",
        "Sentiment scores in NLP are extremely useful as they can connect the flat and lifeless definitions that are available through WordNet with the more human aspects of language, such as emotion and colloquialisms. Greater insight for computers in how humans approach langugage allows NLP to be more accurate."
      ],
      "metadata": {
        "id": "hilCjql_C3T7"
      }
    },
    {
      "cell_type": "markdown",
      "source": [
        "## 10. Collocation"
      ],
      "metadata": {
        "id": "iQP5vCt_66AE"
      }
    },
    {
      "cell_type": "markdown",
      "source": [
        "Collocations are comibinations of words that take different meaning than they would individually, and there is not a word that has the same meaning. Common collocations include\n",
        "\n",
        "*   Catch a cold\n",
        "*   Good enough\n",
        "*   Take a look\n",
        "*   Dead ahead"
      ],
      "metadata": {
        "id": "nyKLe0RdEKcP"
      }
    },
    {
      "cell_type": "code",
      "source": [
        "# Collocations for the inagural corpus\n",
        "from nltk.book import text4\n",
        "text4.collocation_list()"
      ],
      "metadata": {
        "colab": {
          "base_uri": "https://localhost:8080/"
        },
        "id": "9IKKflg1FsZJ",
        "outputId": "68c3a494-360c-421c-98d4-080bd8aaab81"
      },
      "execution_count": 161,
      "outputs": [
        {
          "output_type": "execute_result",
          "data": {
            "text/plain": [
              "[('United', 'States'),\n",
              " ('fellow', 'citizens'),\n",
              " ('years', 'ago'),\n",
              " ('four', 'years'),\n",
              " ('Federal', 'Government'),\n",
              " ('General', 'Government'),\n",
              " ('American', 'people'),\n",
              " ('Vice', 'President'),\n",
              " ('God', 'bless'),\n",
              " ('Chief', 'Justice'),\n",
              " ('one', 'another'),\n",
              " ('fellow', 'Americans'),\n",
              " ('Old', 'World'),\n",
              " ('Almighty', 'God'),\n",
              " ('Fellow', 'citizens'),\n",
              " ('Chief', 'Magistrate'),\n",
              " ('every', 'citizen'),\n",
              " ('Indian', 'tribes'),\n",
              " ('public', 'debt'),\n",
              " ('foreign', 'nations')]"
            ]
          },
          "metadata": {},
          "execution_count": 161
        }
      ]
    },
    {
      "cell_type": "code",
      "source": [
        "# Calculate mutual information for a collocation\n",
        "import math\n",
        "l = len(text4.tokens)\n",
        "x = text4.count('Almighty')\n",
        "y = text4.count('God')\n",
        "\n",
        "numerator = min(x,y) / l\n",
        "denominator = (x/l) * (y/l)\n",
        "\n",
        "numerator\n",
        "math.log( numerator / denominator , 2)"
      ],
      "metadata": {
        "colab": {
          "base_uri": "https://localhost:8080/"
        },
        "id": "ITTWT5cCHIiZ",
        "outputId": "cc5909e0-d631-4022-a0c8-79ff279a4281"
      },
      "execution_count": 174,
      "outputs": [
        {
          "output_type": "execute_result",
          "data": {
            "text/plain": [
              "10.427822450300944"
            ]
          },
          "metadata": {},
          "execution_count": 174
        }
      ]
    },
    {
      "cell_type": "markdown",
      "source": [
        "Because the PMI is over 0, Almighty God is a collocation. This makes some sense when considering the statistic. \"Almighty\" and \"God\" rarely appear without each other in normal text, since their meanings are highly related. However, they are a collocation because their meaning together changes the way God is perceived. God as a word does not imply almighty. "
      ],
      "metadata": {
        "id": "FiDM341yL-HP"
      }
    }
  ]
}